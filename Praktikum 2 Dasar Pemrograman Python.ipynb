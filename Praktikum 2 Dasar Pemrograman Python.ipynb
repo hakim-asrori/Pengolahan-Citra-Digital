{
 "cells": [
  {
   "cell_type": "markdown",
   "id": "972f0351-0d54-4b27-927a-228eb3ae39a7",
   "metadata": {
    "tags": []
   },
   "source": [
    "# ***Variables in General***\n",
    "1. conda create --name nama_baru --clone base\n",
    "2. conda activate nama_baru\n",
    "3. jupyter lab\n",
    "4. buat folder \"nama_kelas\"\n",
    "5. buat jupyter notebook \"Praktikum 2 Dasar Pemrograman Python\""
   ]
  },
  {
   "cell_type": "code",
   "execution_count": 8,
   "id": "f0f75372-f1cd-43f0-8a16-60d8f54ad056",
   "metadata": {},
   "outputs": [
    {
     "name": "stdout",
     "output_type": "stream",
     "text": [
      "Hakim Asrori\n"
     ]
    }
   ],
   "source": [
    "user_1 = \"Hakim Asrori\"\n",
    "print(user_1)"
   ]
  },
  {
   "cell_type": "code",
   "execution_count": 5,
   "id": "2d6633ef-eb2f-42f0-9bfa-de8623016252",
   "metadata": {},
   "outputs": [
    {
     "name": "stdout",
     "output_type": "stream",
     "text": [
      "Indramayu Indramayu Indramayu\n"
     ]
    }
   ],
   "source": [
    "lokasi_1 = lokasi_2 = lokasi_3 = \"Indramayu\"\n",
    "print(lokasi_1, lokasi_2, lokasi_3)"
   ]
  },
  {
   "cell_type": "code",
   "execution_count": 10,
   "id": "f449e53c-fa10-4cea-b1d7-a0e9a5d61668",
   "metadata": {},
   "outputs": [
    {
     "name": "stdout",
     "output_type": "stream",
     "text": [
      "Pengolahan Citra Digital\n"
     ]
    }
   ],
   "source": [
    "user_1, user_2, user_3 = \"Pengolahan\", \"Citra\", \"Digital\"\n",
    "print(user_1, user_2, user_3)"
   ]
  },
  {
   "cell_type": "markdown",
   "id": "c95c5ef2-fe00-47a3-aa11-2a041729328f",
   "metadata": {},
   "source": [
    "# ***Tipe Data Primitives***"
   ]
  },
  {
   "cell_type": "markdown",
   "id": "815449dc-f91a-4d94-bfbb-88ef0d2dc57d",
   "metadata": {},
   "source": [
    "***2.1 String***\n",
    "\n",
    "***2.1.1 Concatinate String***"
   ]
  },
  {
   "cell_type": "code",
   "execution_count": 11,
   "id": "bb015a88-0e46-426e-814d-fb515d39f626",
   "metadata": {},
   "outputs": [
    {
     "name": "stdout",
     "output_type": "stream",
     "text": [
      "Pengolahan Citra\n"
     ]
    }
   ],
   "source": [
    "nama = 'Pengolahan Citra'\n",
    "print(nama)"
   ]
  },
  {
   "cell_type": "code",
   "execution_count": 13,
   "id": "f5d0f0c4-62b7-432f-82ef-b1d5c83baded",
   "metadata": {},
   "outputs": [
    {
     "name": "stdout",
     "output_type": "stream",
     "text": [
      "Pengolahan Citra Digital\n"
     ]
    }
   ],
   "source": [
    "tambah_nama_akhir = nama + ' Digital'\n",
    "print(tambah_nama_akhir)"
   ]
  },
  {
   "cell_type": "code",
   "execution_count": 14,
   "id": "a8cbd72c-04c2-4392-a2cf-dfd0f3bbbe3a",
   "metadata": {},
   "outputs": [
    {
     "name": "stdout",
     "output_type": "stream",
     "text": [
      "Matakuliah Pengolahan Citra Digital\n"
     ]
    }
   ],
   "source": [
    "tambah_nama_awal = 'Matakuliah ' + tambah_nama_akhir\n",
    "print(tambah_nama_awal)"
   ]
  },
  {
   "cell_type": "markdown",
   "id": "732a8396-1c3b-4dca-ab6b-fc6693435f22",
   "metadata": {},
   "source": [
    "***2.1.2 Slicing String***"
   ]
  },
  {
   "cell_type": "code",
   "execution_count": 15,
   "id": "54b81e3f-8d8e-4730-9a08-d90d2ec1cc15",
   "metadata": {},
   "outputs": [
    {
     "name": "stdout",
     "output_type": "stream",
     "text": [
      "Penglolahan Citra Digital\n"
     ]
    }
   ],
   "source": [
    "nama_lengkap = \"Penglolahan Citra Digital\"\n",
    "print(nama_lengkap)"
   ]
  },
  {
   "cell_type": "code",
   "execution_count": 16,
   "id": "519ede09-3c85-4f9c-9b7e-b3aaebdb02cd",
   "metadata": {},
   "outputs": [
    {
     "name": "stdout",
     "output_type": "stream",
     "text": [
      "P\n",
      "e\n",
      "n\n",
      "g\n"
     ]
    }
   ],
   "source": [
    "print(nama_lengkap[0])\n",
    "print(nama_lengkap[1])\n",
    "print(nama_lengkap[2])\n",
    "print(nama_lengkap[3])"
   ]
  },
  {
   "cell_type": "code",
   "execution_count": 17,
   "id": "6b75f259-8994-40cc-829d-167660984697",
   "metadata": {},
   "outputs": [
    {
     "name": "stdout",
     "output_type": "stream",
     "text": [
      "Penglol\n",
      "han Citr\n",
      " Digital\n"
     ]
    }
   ],
   "source": [
    "print(nama_lengkap[:7])\n",
    "print(nama_lengkap[8:16])\n",
    "print(nama_lengkap[17:])"
   ]
  },
  {
   "cell_type": "markdown",
   "id": "0abc8585-25b2-4b0f-a114-a828a19a41b0",
   "metadata": {},
   "source": [
    "***2.1.3 String Formatting***\n",
    "\n",
    "f-string"
   ]
  },
  {
   "cell_type": "code",
   "execution_count": 22,
   "id": "f239baed-6ec8-430a-9985-3747b84edfed",
   "metadata": {},
   "outputs": [
    {
     "name": "stdout",
     "output_type": "stream",
     "text": [
      "alamat baru saya di jalan Lohbener Lama, no 8, kecamatan Lohbener, kelurahan Lohbener\n",
      "<class 'str'>\n"
     ]
    }
   ],
   "source": [
    "jalan = \"Lohbener Lama\"\n",
    "no = 8\n",
    "kecamatan = \"Lohbener\"\n",
    "kelurahan = \"Lohbener\"\n",
    "alamat_baru = f'alamat baru saya di jalan {jalan}, no {no}, kecamatan {kecamatan}, kelurahan {kelurahan}'\n",
    "\n",
    "print(alamat_baru)\n",
    "print(type(alamat_baru))"
   ]
  },
  {
   "cell_type": "markdown",
   "id": "18ddcd4e-a414-4a90-89f3-149a939097e8",
   "metadata": {},
   "source": [
    "***2.2 Integer & Float***\n",
    "\n",
    "***2.2.1 Kalkulasi Integer***"
   ]
  },
  {
   "cell_type": "code",
   "execution_count": 23,
   "id": "af99bd31-3b56-46f0-8155-6fcfe8859502",
   "metadata": {},
   "outputs": [
    {
     "name": "stdout",
     "output_type": "stream",
     "text": [
      "<class 'int'>\n",
      "2\n",
      "3\n"
     ]
    }
   ],
   "source": [
    "jml_transaksi_1 = 2\n",
    "jml_transaksi_2 = 3\n",
    "\n",
    "print(type(jml_transaksi_1))\n",
    "print(jml_transaksi_1)\n",
    "print(jml_transaksi_2)"
   ]
  },
  {
   "cell_type": "code",
   "execution_count": 24,
   "id": "5359f1e7-ca8c-4ac3-8201-51c7166e03be",
   "metadata": {},
   "outputs": [
    {
     "name": "stdout",
     "output_type": "stream",
     "text": [
      "5\n",
      "-1\n",
      "6\n",
      "8\n"
     ]
    }
   ],
   "source": [
    "print(jml_transaksi_1 + jml_transaksi_2)\n",
    "print(jml_transaksi_1 - jml_transaksi_2)\n",
    "print(jml_transaksi_1 * jml_transaksi_2)\n",
    "print(jml_transaksi_1 ** jml_transaksi_2)"
   ]
  },
  {
   "cell_type": "code",
   "execution_count": 26,
   "id": "453ddcc1-e48a-4bc7-ac6a-ba8a0866337d",
   "metadata": {},
   "outputs": [
    {
     "name": "stdout",
     "output_type": "stream",
     "text": [
      "<class 'float'>\n",
      "2.5\n"
     ]
    }
   ],
   "source": [
    "rata2 = (jml_transaksi_1 + jml_transaksi_2) / 2\n",
    "print(type(rata2))\n",
    "print(rata2)"
   ]
  },
  {
   "cell_type": "code",
   "execution_count": 28,
   "id": "de9ff600-9287-43b5-b884-fbd7dd7785d0",
   "metadata": {},
   "outputs": [
    {
     "name": "stdout",
     "output_type": "stream",
     "text": [
      "0\n",
      "0\n",
      "1\n",
      "0\n",
      "4\n",
      "3\n",
      "2\n"
     ]
    }
   ],
   "source": [
    "print(9 % 1)\n",
    "print(9 % 9)\n",
    "print(9 % 2)\n",
    "print(9 % 3)\n",
    "print(9 % 5)\n",
    "print(9 % 6)\n",
    "print(9 % 7)"
   ]
  },
  {
   "cell_type": "markdown",
   "id": "389c6578-e499-4a02-bc02-1336369bb3d8",
   "metadata": {},
   "source": [
    "***2.2.2 Kalkulasi Float***"
   ]
  },
  {
   "cell_type": "code",
   "execution_count": 30,
   "id": "dad896b6-9078-4a2a-8b89-b3e6fc24899a",
   "metadata": {},
   "outputs": [
    {
     "name": "stdout",
     "output_type": "stream",
     "text": [
      "7.3631 3.312\n"
     ]
    }
   ],
   "source": [
    "berat_1 = 7.3631\n",
    "berat_2 = 3.312\n",
    "\n",
    "print(berat_1, berat_2)"
   ]
  },
  {
   "cell_type": "code",
   "execution_count": 31,
   "id": "94349cd3-6fee-43eb-b6ba-e02f3694c876",
   "metadata": {},
   "outputs": [
    {
     "name": "stdout",
     "output_type": "stream",
     "text": [
      "10.6751\n",
      "4.0511\n",
      "-4.0511\n",
      "4.0511\n"
     ]
    }
   ],
   "source": [
    "print(berat_1 + berat_2)\n",
    "print(berat_1 - berat_2)\n",
    "print(berat_2 - berat_1)\n",
    "print((berat_2 - berat_1) * -1)"
   ]
  },
  {
   "cell_type": "code",
   "execution_count": 34,
   "id": "385de4d3-5c62-4e44-903f-1405c1833fad",
   "metadata": {},
   "outputs": [
    {
     "name": "stdout",
     "output_type": "stream",
     "text": [
      "24.3865872\n",
      "2.223158212560387\n",
      "2.0\n",
      "0.7391000000000005\n"
     ]
    }
   ],
   "source": [
    "print(berat_1 * berat_2)\n",
    "print(berat_1 / berat_2)\n",
    "print(berat_1 // berat_2)\n",
    "print(berat_1 % berat_2)"
   ]
  },
  {
   "cell_type": "markdown",
   "id": "2af47e0e-1d0b-41c7-8c4b-cec189f32f52",
   "metadata": {},
   "source": [
    "***2.2.3 kalkulasi integer dengan float***"
   ]
  },
  {
   "cell_type": "code",
   "execution_count": 36,
   "id": "729560e3-e25b-47ad-8535-3dc3e3a33781",
   "metadata": {},
   "outputs": [
    {
     "name": "stdout",
     "output_type": "stream",
     "text": [
      "5.311999999999999\n",
      "1.3119999999999998\n"
     ]
    }
   ],
   "source": [
    "print(jml_transaksi_1 + berat_2)\n",
    "print(berat_2 - jml_transaksi_1)"
   ]
  },
  {
   "cell_type": "markdown",
   "id": "b836f378-71f0-4802-abd8-d32a918ca6db",
   "metadata": {},
   "source": [
    "***2.3 Boolean***"
   ]
  },
  {
   "cell_type": "code",
   "execution_count": 37,
   "id": "22864150-a1e2-4a18-a9cf-147f7fca7d31",
   "metadata": {},
   "outputs": [
    {
     "name": "stdout",
     "output_type": "stream",
     "text": [
      "<class 'bool'>\n",
      "True\n",
      "False\n"
     ]
    }
   ],
   "source": [
    "is_married = True\n",
    "is_arrived = False\n",
    "\n",
    "print(type(is_married))\n",
    "print(is_married)\n",
    "print(is_arrived)"
   ]
  },
  {
   "cell_type": "markdown",
   "id": "9315d73f-1c84-4f1e-bc9f-95be19c2f70b",
   "metadata": {},
   "source": [
    "# ***Tipe Data Collections***"
   ]
  },
  {
   "cell_type": "markdown",
   "id": "6880c45f-3dc0-46ba-b554-2ab0f8d707e2",
   "metadata": {},
   "source": [
    "***3.1 List***"
   ]
  },
  {
   "cell_type": "code",
   "execution_count": 39,
   "id": "c426c2ff-5fcb-4e00-9493-990efac9d63d",
   "metadata": {},
   "outputs": [
    {
     "name": "stdout",
     "output_type": "stream",
     "text": [
      "<class 'list'>\n",
      "['apel', True, 'pisang', 92, -0.2551, ['a', 'b', 'c']]\n"
     ]
    }
   ],
   "source": [
    "mix_data_types = ['apel', True, 'pisang', 92, -0.2551, ['a', 'b', 'c']]\n",
    "\n",
    "print(type(mix_data_types)) \n",
    "print(mix_data_types)"
   ]
  },
  {
   "cell_type": "code",
   "execution_count": 40,
   "id": "8662a46a-78f8-45d3-915a-14aeb0b32e66",
   "metadata": {},
   "outputs": [
    {
     "name": "stdout",
     "output_type": "stream",
     "text": [
      "['apel', 'belimbing', 'ceri', 'duren']\n"
     ]
    }
   ],
   "source": [
    "buah  =  ['apel',  'belimbing',  'ceri',  'duren']\n",
    "print(buah)"
   ]
  },
  {
   "cell_type": "markdown",
   "id": "aed0c8b7-72d4-4c46-b75a-0430f36786a4",
   "metadata": {},
   "source": [
    "***3.1.1 Concatinate list***"
   ]
  },
  {
   "cell_type": "code",
   "execution_count": 41,
   "id": "94145ef6-896b-43ad-b7f7-f48c98ec0e84",
   "metadata": {},
   "outputs": [
    {
     "name": "stdout",
     "output_type": "stream",
     "text": [
      "['apel', True, 'pisang', 92, -0.2551, ['a', 'b', 'c'], 'apel', 'belimbing', 'ceri', 'duren']\n"
     ]
    }
   ],
   "source": [
    "concat_lists = mix_data_types + buah\n",
    "print(concat_lists)"
   ]
  },
  {
   "cell_type": "markdown",
   "id": "7a5e40a6-e437-4f65-a72b-7eaa0378228e",
   "metadata": {},
   "source": [
    "***3.1.2 Built-in Functions in List***"
   ]
  },
  {
   "cell_type": "code",
   "execution_count": 43,
   "id": "b3d23481-d16d-44b1-9e1e-763719157c9c",
   "metadata": {},
   "outputs": [
    {
     "name": "stdout",
     "output_type": "stream",
     "text": [
      "['apel', 'belimbing', 'ceri', 'duren']\n",
      "['apel', 'belimbing', 'ceri', 'duren']\n",
      "['duren', 'ceri', 'belimbing', 'apel']\n"
     ]
    }
   ],
   "source": [
    "# print(sorted(mix_data_types)) \n",
    "print(sorted(buah)) \n",
    "print(sorted(buah,  reverse=False)) \n",
    "print(sorted(buah,  reverse=True))"
   ]
  },
  {
   "cell_type": "code",
   "execution_count": 44,
   "id": "4ab0f7d9-ff41-4735-ae7d-e1f2da3bd95a",
   "metadata": {},
   "outputs": [
    {
     "name": "stdout",
     "output_type": "stream",
     "text": [
      "duren\n",
      "apel\n"
     ]
    }
   ],
   "source": [
    "# print(max(mix_data_types)) \n",
    "print(max(buah)) \n",
    "print(min(buah))"
   ]
  },
  {
   "cell_type": "code",
   "execution_count": 46,
   "id": "153c30dc-faf8-4599-a77a-876d68b4d431",
   "metadata": {},
   "outputs": [
    {
     "name": "stdout",
     "output_type": "stream",
     "text": [
      "['apel', 'belimbing', 'ceri', 'duren']\n"
     ]
    }
   ],
   "source": [
    "buah = ['apel',  'belimbing',  'ceri',  'duren']\n",
    "print(buah)"
   ]
  },
  {
   "cell_type": "code",
   "execution_count": 47,
   "id": "38ca7f7e-1a0a-413b-ad1e-4d64791ab705",
   "metadata": {},
   "outputs": [
    {
     "name": "stdout",
     "output_type": "stream",
     "text": [
      "['apel', 'belimbing', 'ceri', 'duren', 'jeruk']\n"
     ]
    }
   ],
   "source": [
    "buah.append('jeruk')\n",
    "print(buah)"
   ]
  },
  {
   "cell_type": "code",
   "execution_count": 48,
   "id": "65c48da5-b6c1-461a-95c5-d40b135fe9ea",
   "metadata": {},
   "outputs": [
    {
     "name": "stdout",
     "output_type": "stream",
     "text": [
      "['apel', 'belimbing', 'cermai', 'ceri', 'duren', 'jeruk']\n"
     ]
    }
   ],
   "source": [
    "buah.insert(2, 'cermai')\n",
    "print(buah)"
   ]
  },
  {
   "cell_type": "code",
   "execution_count": 49,
   "id": "486590db-ad08-4673-9f2d-9d62dfd5e035",
   "metadata": {},
   "outputs": [
    {
     "name": "stdout",
     "output_type": "stream",
     "text": [
      "['apel', 'belimbing', 'cermai', 'duren', 'jeruk']\n"
     ]
    }
   ],
   "source": [
    "buah.remove('ceri')\n",
    "print(buah)"
   ]
  },
  {
   "cell_type": "code",
   "execution_count": 50,
   "id": "eb34c731-65ad-44e1-b799-4fc4a4e59bf3",
   "metadata": {},
   "outputs": [
    {
     "name": "stdout",
     "output_type": "stream",
     "text": [
      "['apel', 'belimbing', 'cermai', 'duren']\n"
     ]
    }
   ],
   "source": [
    "del buah[-1]\n",
    "print(buah)"
   ]
  },
  {
   "cell_type": "code",
   "execution_count": 52,
   "id": "a07390b8-74f1-4866-bc39-5a0fc19b9333",
   "metadata": {},
   "outputs": [
    {
     "name": "stdout",
     "output_type": "stream",
     "text": [
      "cermai\n",
      "['apel', 'belimbing', 'duren']\n"
     ]
    }
   ],
   "source": [
    "buah_index_ke_2 = buah.pop(2)\n",
    "\n",
    "print(buah_index_ke_2) \n",
    "print(buah)"
   ]
  },
  {
   "cell_type": "code",
   "execution_count": 53,
   "id": "5ddca0ee-ef5f-4917-935c-3734492d7e50",
   "metadata": {},
   "outputs": [
    {
     "name": "stdout",
     "output_type": "stream",
     "text": [
      "['apel', True, 'pisang', 92, -0.2551, ['a', 'b', 'c']]\n",
      "6\n"
     ]
    }
   ],
   "source": [
    "print(mix_data_types)\n",
    "print(len(mix_data_types))"
   ]
  },
  {
   "cell_type": "markdown",
   "id": "c68513d0-9095-42b2-ad9d-1b05e626e4ef",
   "metadata": {},
   "source": [
    "***3.1.3 Slicing List***"
   ]
  },
  {
   "cell_type": "code",
   "execution_count": 55,
   "id": "0728ca94-6a07-4141-81a9-4bc13fcebf82",
   "metadata": {},
   "outputs": [
    {
     "name": "stdout",
     "output_type": "stream",
     "text": [
      "['apel', 'belimbing', 'ceri', 'duren']\n"
     ]
    }
   ],
   "source": [
    "buah = ['apel',  'belimbing',  'ceri',  'duren']\n",
    "print(buah)"
   ]
  },
  {
   "cell_type": "code",
   "execution_count": 56,
   "id": "0d7e5743-7c73-4289-8dc8-43dd45bacff8",
   "metadata": {},
   "outputs": [
    {
     "name": "stdout",
     "output_type": "stream",
     "text": [
      "apel\n",
      "belimbing\n",
      "duren\n",
      "ceri\n"
     ]
    }
   ],
   "source": [
    "print(buah[0])\n",
    "print(buah[1])\n",
    "\n",
    "print(buah[-1])\n",
    "print(buah[-2])"
   ]
  },
  {
   "cell_type": "code",
   "execution_count": 57,
   "id": "b2a280af-dccd-4aa0-b17a-ad99f4d8b91a",
   "metadata": {},
   "outputs": [
    {
     "name": "stdout",
     "output_type": "stream",
     "text": [
      "['apel', 'belimbing', 'ceri']\n",
      "['apel', 'belimbing', 'ceri']\n"
     ]
    }
   ],
   "source": [
    "print(buah[0:3])\n",
    "print(buah[:3])"
   ]
  },
  {
   "cell_type": "code",
   "execution_count": 58,
   "id": "81c7f21c-e05c-4707-b2f0-13ecff13a148",
   "metadata": {},
   "outputs": [
    {
     "name": "stdout",
     "output_type": "stream",
     "text": [
      "['belimbing', 'ceri']\n",
      "['belimbing', 'ceri', 'duren']\n"
     ]
    }
   ],
   "source": [
    "print(buah[-3:-1])\n",
    "print(buah[-3:])"
   ]
  },
  {
   "cell_type": "markdown",
   "id": "eeb86603-9991-4e03-9f93-d556ca1f617a",
   "metadata": {},
   "source": [
    "***3.2 Tuple***"
   ]
  },
  {
   "cell_type": "code",
   "execution_count": 59,
   "id": "31d3615e-25a9-467f-a238-fd4df0dcba31",
   "metadata": {},
   "outputs": [
    {
     "name": "stdout",
     "output_type": "stream",
     "text": [
      "(1, 2, 3, 4, 5)\n"
     ]
    }
   ],
   "source": [
    "tuple_numbers = (1,2,3,4,5)\n",
    "print(tuple_numbers)"
   ]
  },
  {
   "cell_type": "code",
   "execution_count": 61,
   "id": "8dfe3381-4307-4fc9-9556-34156398107f",
   "metadata": {},
   "outputs": [
    {
     "name": "stdout",
     "output_type": "stream",
     "text": [
      "('a', 'i', 'merupakan  adalah', 2, 6.431, 61.124, True, False)\n",
      "(1, 2, 3, 4, 5)\n"
     ]
    }
   ],
   "source": [
    "mix_tuple = ('a', 'i', 'merupakan  adalah', 2, 6.431, 61.124, True, False)\n",
    "print(mix_tuple)"
   ]
  },
  {
   "cell_type": "markdown",
   "id": "3b5c3b19-29c2-41f9-87ed-97536c41f029",
   "metadata": {},
   "source": [
    "***3.2.1 Contoh Tuple Termasuk Immutable***"
   ]
  },
  {
   "cell_type": "code",
   "execution_count": 63,
   "id": "221e58aa-b68b-4ff9-86d6-d1bec74b90a1",
   "metadata": {},
   "outputs": [
    {
     "name": "stdout",
     "output_type": "stream",
     "text": [
      "(1, 2, 3, 4, 5)\n"
     ]
    }
   ],
   "source": [
    "print(tuple_numbers)"
   ]
  },
  {
   "cell_type": "code",
   "execution_count": 62,
   "id": "c50672ed-bb58-4e0b-964a-5bea371e35c1",
   "metadata": {},
   "outputs": [
    {
     "name": "stdout",
     "output_type": "stream",
     "text": [
      "1\n"
     ]
    },
    {
     "ename": "TypeError",
     "evalue": "'tuple' object does not support item assignment",
     "output_type": "error",
     "traceback": [
      "\u001b[1;31m---------------------------------------------------------------------------\u001b[0m",
      "\u001b[1;31mTypeError\u001b[0m                                 Traceback (most recent call last)",
      "\u001b[1;32m~\\AppData\\Local\\Temp/ipykernel_13912/3375120904.py\u001b[0m in \u001b[0;36m<module>\u001b[1;34m\u001b[0m\n\u001b[0;32m      1\u001b[0m \u001b[0mprint\u001b[0m\u001b[1;33m(\u001b[0m\u001b[0mtuple_numbers\u001b[0m\u001b[1;33m[\u001b[0m\u001b[1;36m0\u001b[0m\u001b[1;33m]\u001b[0m\u001b[1;33m)\u001b[0m\u001b[1;33m\u001b[0m\u001b[1;33m\u001b[0m\u001b[0m\n\u001b[0;32m      2\u001b[0m \u001b[1;33m\u001b[0m\u001b[0m\n\u001b[1;32m----> 3\u001b[1;33m \u001b[0mtuple_numbers\u001b[0m\u001b[1;33m[\u001b[0m\u001b[1;36m0\u001b[0m\u001b[1;33m]\u001b[0m \u001b[1;33m=\u001b[0m \u001b[1;36m99\u001b[0m\u001b[1;33m\u001b[0m\u001b[1;33m\u001b[0m\u001b[0m\n\u001b[0m\u001b[0;32m      4\u001b[0m \u001b[0mprint\u001b[0m\u001b[1;33m(\u001b[0m\u001b[0mtuple_numbers\u001b[0m\u001b[1;33m)\u001b[0m\u001b[1;33m\u001b[0m\u001b[1;33m\u001b[0m\u001b[0m\n",
      "\u001b[1;31mTypeError\u001b[0m: 'tuple' object does not support item assignment"
     ]
    }
   ],
   "source": [
    "print(tuple_numbers[0])\n",
    "\n",
    "tuple_numbers[0] = 99\n",
    "print(tuple_numbers)"
   ]
  },
  {
   "cell_type": "code",
   "execution_count": 64,
   "id": "2aaa9b4a-dcb4-46a3-9415-11d13d267c3a",
   "metadata": {},
   "outputs": [
    {
     "ename": "TypeError",
     "evalue": "'tuple' object doesn't support item deletion",
     "output_type": "error",
     "traceback": [
      "\u001b[1;31m---------------------------------------------------------------------------\u001b[0m",
      "\u001b[1;31mTypeError\u001b[0m                                 Traceback (most recent call last)",
      "\u001b[1;32m~\\AppData\\Local\\Temp/ipykernel_13912/3637645044.py\u001b[0m in \u001b[0;36m<module>\u001b[1;34m\u001b[0m\n\u001b[1;32m----> 1\u001b[1;33m \u001b[1;32mdel\u001b[0m \u001b[0mtuple_numbers\u001b[0m\u001b[1;33m[\u001b[0m\u001b[1;36m0\u001b[0m\u001b[1;33m]\u001b[0m\u001b[1;33m\u001b[0m\u001b[1;33m\u001b[0m\u001b[0m\n\u001b[0m",
      "\u001b[1;31mTypeError\u001b[0m: 'tuple' object doesn't support item deletion"
     ]
    }
   ],
   "source": [
    "del tuple_numbers[0]"
   ]
  },
  {
   "cell_type": "markdown",
   "id": "27265f95-7358-4dbb-b84f-b466ff097638",
   "metadata": {},
   "source": [
    "***3.2.2 Concate Tuple***"
   ]
  },
  {
   "cell_type": "code",
   "execution_count": 65,
   "id": "61048c1c-b0c6-4294-a8e9-a26f1be46a08",
   "metadata": {},
   "outputs": [
    {
     "name": "stdout",
     "output_type": "stream",
     "text": [
      "(1, 2, 3, 4, 5)\n",
      "(1, 2, 3, 4, 5, 6, 7, 8)\n"
     ]
    }
   ],
   "source": [
    "print(tuple_numbers)\n",
    "tuple_new_numbers = tuple_numbers + (6,7,8)\n",
    "print(tuple_new_numbers)"
   ]
  },
  {
   "cell_type": "markdown",
   "id": "a1a4e464-b93d-4781-a1bc-46c103641576",
   "metadata": {},
   "source": [
    "***3.2.3 Delete Tuple***"
   ]
  },
  {
   "cell_type": "code",
   "execution_count": 66,
   "id": "59db692e-82c4-4c11-b36d-48ba8c120816",
   "metadata": {},
   "outputs": [
    {
     "name": "stdout",
     "output_type": "stream",
     "text": [
      "(1, 2, 3, 4, 5)\n"
     ]
    },
    {
     "ename": "NameError",
     "evalue": "name 'tuple_numbers' is not defined",
     "output_type": "error",
     "traceback": [
      "\u001b[1;31m---------------------------------------------------------------------------\u001b[0m",
      "\u001b[1;31mNameError\u001b[0m                                 Traceback (most recent call last)",
      "\u001b[1;32m~\\AppData\\Local\\Temp/ipykernel_13912/2265871878.py\u001b[0m in \u001b[0;36m<module>\u001b[1;34m\u001b[0m\n\u001b[0;32m      1\u001b[0m \u001b[0mprint\u001b[0m\u001b[1;33m(\u001b[0m\u001b[0mtuple_numbers\u001b[0m\u001b[1;33m)\u001b[0m\u001b[1;33m\u001b[0m\u001b[1;33m\u001b[0m\u001b[0m\n\u001b[0;32m      2\u001b[0m \u001b[1;32mdel\u001b[0m \u001b[0mtuple_numbers\u001b[0m\u001b[1;33m\u001b[0m\u001b[1;33m\u001b[0m\u001b[0m\n\u001b[1;32m----> 3\u001b[1;33m \u001b[0mprint\u001b[0m\u001b[1;33m(\u001b[0m\u001b[0mtuple_numbers\u001b[0m\u001b[1;33m)\u001b[0m\u001b[1;33m\u001b[0m\u001b[1;33m\u001b[0m\u001b[0m\n\u001b[0m",
      "\u001b[1;31mNameError\u001b[0m: name 'tuple_numbers' is not defined"
     ]
    }
   ],
   "source": [
    "print(tuple_numbers)\n",
    "del tuple_numbers\n",
    "print(tuple_numbers)"
   ]
  },
  {
   "cell_type": "markdown",
   "id": "50684aa1-d28c-4a0a-b53a-e287a54e5710",
   "metadata": {},
   "source": [
    "***3.2.4 Length***"
   ]
  },
  {
   "cell_type": "code",
   "execution_count": 67,
   "id": "05b6f56c-018d-4974-9f79-b61fd17641e8",
   "metadata": {},
   "outputs": [
    {
     "name": "stdout",
     "output_type": "stream",
     "text": [
      "(1, 2, 3, 4, 5)\n",
      "5\n"
     ]
    }
   ],
   "source": [
    "tuple_numbers = (1,2,3,4,5)\n",
    "\n",
    "print(tuple_numbers)\n",
    "print(len(tuple_numbers))"
   ]
  },
  {
   "cell_type": "markdown",
   "id": "f6b8f29e-7a26-49bc-ba11-1e142bfa56e2",
   "metadata": {},
   "source": [
    "***3.2.5 Zip***"
   ]
  },
  {
   "cell_type": "code",
   "execution_count": 68,
   "id": "227420e3-e688-4000-9872-08c0b61eb42f",
   "metadata": {},
   "outputs": [
    {
     "name": "stdout",
     "output_type": "stream",
     "text": [
      "('budi', 'andi', 'riri', 'joko')\n",
      "(33, 23, 26)\n"
     ]
    }
   ],
   "source": [
    "nama = ('budi', 'andi', 'riri', 'joko') \n",
    "umur = (33, 23, 26)\n",
    "\n",
    "# nama  =  ['budi', 'andi', 'riri', 'joko'] \n",
    "# umur = [33, 23, 26]\n",
    "\n",
    "print(nama) \n",
    "print(umur)"
   ]
  },
  {
   "cell_type": "code",
   "execution_count": 69,
   "id": "408559a6-552d-4c7f-9455-7c1e1e779adc",
   "metadata": {},
   "outputs": [
    {
     "name": "stdout",
     "output_type": "stream",
     "text": [
      "<zip object at 0x000002299888F200>\n",
      "[('budi', 33), ('andi', 23), ('riri', 26)]\n"
     ]
    }
   ],
   "source": [
    "zipped = zip(nama, umur)\n",
    "\n",
    "print(zipped)\n",
    "print(list(zipped))"
   ]
  },
  {
   "cell_type": "markdown",
   "id": "e5d6e2be-e194-453c-81e8-8c9640f19e04",
   "metadata": {},
   "source": [
    "***3.2.6 Slicing Tuple***"
   ]
  },
  {
   "cell_type": "code",
   "execution_count": 71,
   "id": "7052a72c-5edd-4621-9e93-abfe34398cba",
   "metadata": {},
   "outputs": [
    {
     "name": "stdout",
     "output_type": "stream",
     "text": [
      "1\n",
      "2\n",
      "5\n",
      "4\n",
      "(1, 2, 3)\n",
      "(1, 2, 3)\n",
      "(3, 4)\n",
      "(3, 4, 5)\n"
     ]
    }
   ],
   "source": [
    "print(tuple_numbers[0])\n",
    "print(tuple_numbers[1])\n",
    "\n",
    "print(tuple_numbers[-1]) \n",
    "print(tuple_numbers[-2])\n",
    "\n",
    "print(tuple_numbers[0:3])\n",
    "print(tuple_numbers[:3])\n",
    "\n",
    "print(tuple_numbers[-3:-1])\n",
    "print(tuple_numbers[-3:])"
   ]
  },
  {
   "cell_type": "markdown",
   "id": "c7e9faaf-d0df-44ce-a588-122435586dd3",
   "metadata": {},
   "source": [
    "***3.3 Set***"
   ]
  },
  {
   "cell_type": "code",
   "execution_count": 72,
   "id": "52e66bbb-18c3-4216-a639-2405b1b6f8e8",
   "metadata": {},
   "outputs": [
    {
     "name": "stdout",
     "output_type": "stream",
     "text": [
      "{1, 2, 3, 4, 5}\n"
     ]
    }
   ],
   "source": [
    "set_numbers = {1,2,3,4,5}\n",
    "print(set_numbers)"
   ]
  },
  {
   "cell_type": "code",
   "execution_count": 73,
   "id": "d2c97921-b9d6-4c09-841b-003ab6f03c0f",
   "metadata": {},
   "outputs": [
    {
     "name": "stdout",
     "output_type": "stream",
     "text": [
      "{0.351, 1, 2, False, 8.134, 'ini  budi'}\n"
     ]
    }
   ],
   "source": [
    "mixed_set = {1,  2,  0.351,  8.134,  False,  'ini  budi'}\n",
    "print(mixed_set)\n"
   ]
  },
  {
   "cell_type": "markdown",
   "id": "1501b243-c159-44b4-b37c-0e978dd8a002",
   "metadata": {},
   "source": [
    "***3.3.1 Contoh set tidak mengandung duplikat elemen***"
   ]
  },
  {
   "cell_type": "code",
   "execution_count": 74,
   "id": "39c3fae4-d24d-4723-94ed-58ca87f2ad80",
   "metadata": {},
   "outputs": [
    {
     "name": "stdout",
     "output_type": "stream",
     "text": [
      "{1, 2, 3, 4, 5}\n"
     ]
    }
   ],
   "source": [
    "random_set_numbers = {4,5,5,1,2,3,3}\n",
    "print(random_set_numbers)"
   ]
  },
  {
   "cell_type": "markdown",
   "id": "5a9a06f1-f21a-4da5-819f-663ab4ef01c6",
   "metadata": {},
   "source": [
    "***3.3.2 Contoh set memiliki index yg tidak berurutan***"
   ]
  },
  {
   "cell_type": "code",
   "execution_count": 75,
   "id": "ccc3809a-9651-44a0-8a46-916fe683b848",
   "metadata": {},
   "outputs": [
    {
     "ename": "TypeError",
     "evalue": "'set' object is not subscriptable",
     "output_type": "error",
     "traceback": [
      "\u001b[1;31m---------------------------------------------------------------------------\u001b[0m",
      "\u001b[1;31mTypeError\u001b[0m                                 Traceback (most recent call last)",
      "\u001b[1;32m~\\AppData\\Local\\Temp/ipykernel_13912/127606744.py\u001b[0m in \u001b[0;36m<module>\u001b[1;34m\u001b[0m\n\u001b[1;32m----> 1\u001b[1;33m \u001b[0mprint\u001b[0m\u001b[1;33m(\u001b[0m\u001b[0mrandom_set_numbers\u001b[0m\u001b[1;33m[\u001b[0m\u001b[1;36m0\u001b[0m\u001b[1;33m]\u001b[0m\u001b[1;33m)\u001b[0m\u001b[1;33m\u001b[0m\u001b[1;33m\u001b[0m\u001b[0m\n\u001b[0m",
      "\u001b[1;31mTypeError\u001b[0m: 'set' object is not subscriptable"
     ]
    }
   ],
   "source": [
    "print(random_set_numbers[0])"
   ]
  },
  {
   "cell_type": "markdown",
   "id": "a9051c41-fc20-4716-9665-6194a61edb48",
   "metadata": {},
   "source": [
    "***3.3.3 Add & Remove Set***"
   ]
  },
  {
   "cell_type": "code",
   "execution_count": 76,
   "id": "f0b9e4b2-670a-40d2-a5bf-4fd455dfe79b",
   "metadata": {},
   "outputs": [
    {
     "name": "stdout",
     "output_type": "stream",
     "text": [
      "{1, 2, 3, 4, 5}\n",
      "{1, 2, 3, 4, 5, 6}\n",
      "{1, 3, 4, 5, 6}\n"
     ]
    }
   ],
   "source": [
    "print(random_set_numbers)\n",
    "random_set_numbers.add(6)\n",
    "print(random_set_numbers)\n",
    "random_set_numbers.remove(2)\n",
    "print(random_set_numbers)"
   ]
  },
  {
   "cell_type": "markdown",
   "id": "401261d2-d0f1-4f49-98d5-3153de384550",
   "metadata": {},
   "source": [
    "***3.4 Dictionary***"
   ]
  },
  {
   "cell_type": "code",
   "execution_count": 77,
   "id": "92139377-d734-4f14-a966-22dc039fc180",
   "metadata": {},
   "outputs": [
    {
     "name": "stdout",
     "output_type": "stream",
     "text": [
      "{'nama': 'budi', 'umur': 25, 'sudah_menikah': False, 3: 'integer  as key', True: 'boolean  as  key'}\n",
      "budi\n",
      "integer  as key\n",
      "boolean  as  key\n"
     ]
    }
   ],
   "source": [
    "dict_user = {'nama': 'budi', 'umur':  25, 'sudah_menikah': False,  3: 'integer  as key',  True:  'boolean  as  key'}\n",
    "print(dict_user)\n",
    "\n",
    "print(dict_user['nama'])\n",
    "print(dict_user[3])\n",
    "print(dict_user[True])"
   ]
  },
  {
   "cell_type": "markdown",
   "id": "f0204b25-600f-4f85-8715-bc9cb899942e",
   "metadata": {},
   "source": [
    "***3.4.1 Print All Keys, Values, & key-value pairs***"
   ]
  },
  {
   "cell_type": "code",
   "execution_count": 78,
   "id": "5206a0fd-7d2d-436f-bab2-442bf39588ce",
   "metadata": {},
   "outputs": [
    {
     "name": "stdout",
     "output_type": "stream",
     "text": [
      "dict_keys(['nama', 'umur', 'sudah_menikah', 3, True])\n",
      "dict_values(['budi', 25, False, 'integer  as key', 'boolean  as  key'])\n",
      "dict_items([('nama', 'budi'), ('umur', 25), ('sudah_menikah', False), (3, 'integer  as key'), (True, 'boolean  as  key')])\n"
     ]
    }
   ],
   "source": [
    "print(dict_user.keys())\n",
    "print(dict_user.values())\n",
    "print(dict_user.items())"
   ]
  },
  {
   "cell_type": "markdown",
   "id": "a0ebdd48-1a5f-4ba4-a8c5-6be57a14ef8b",
   "metadata": {},
   "source": [
    "***3.4.2 Add & Remove Key-Value Pair***"
   ]
  },
  {
   "cell_type": "code",
   "execution_count": 79,
   "id": "4e8733dc-2d91-4aaf-a8e1-595405decd06",
   "metadata": {},
   "outputs": [
    {
     "name": "stdout",
     "output_type": "stream",
     "text": [
      "{'nama': 'budi', 'umur': 25, 'sudah_menikah': False, 3: 'integer  as key', True: 'boolean  as  key'}\n",
      "{'nama': 'budi', 'umur': 25, 'sudah_menikah': False, 3: 'integer  as key', True: 'boolean  as  key', 'alamat': 'jl lohbener lama no 8 indramayu'}\n",
      "{'nama': 'budi', 'sudah_menikah': False, 3: 'integer  as key', True: 'boolean  as  key', 'alamat': 'jl lohbener lama no 8 indramayu'}\n"
     ]
    }
   ],
   "source": [
    "print(dict_user)\n",
    "dict_user['alamat'] = 'jl lohbener lama no 8 indramayu'\n",
    "print(dict_user)\n",
    "del dict_user['umur']\n",
    "print(dict_user)"
   ]
  }
 ],
 "metadata": {
  "kernelspec": {
   "display_name": "Python 3 (ipykernel)",
   "language": "python",
   "name": "python3"
  },
  "language_info": {
   "codemirror_mode": {
    "name": "ipython",
    "version": 3
   },
   "file_extension": ".py",
   "mimetype": "text/x-python",
   "name": "python",
   "nbconvert_exporter": "python",
   "pygments_lexer": "ipython3",
   "version": "3.9.7"
  }
 },
 "nbformat": 4,
 "nbformat_minor": 5
}
