{
 "cells": [
  {
   "cell_type": "markdown",
   "id": "8a24a840",
   "metadata": {},
   "source": [
    "***1. Alur Kondisi***"
   ]
  },
  {
   "cell_type": "code",
   "execution_count": 1,
   "id": "12a0c994-935a-42d1-b769-774e4b31d850",
   "metadata": {},
   "outputs": [],
   "source": [
    "a = 1\n",
    "b = 3\n",
    "c = [1,2]\n",
    "d = []"
   ]
  },
  {
   "cell_type": "markdown",
   "id": "8eefa684",
   "metadata": {},
   "source": [
    "***1.1. Kondisi***"
   ]
  },
  {
   "cell_type": "code",
   "execution_count": 2,
   "id": "5a20e581",
   "metadata": {},
   "outputs": [
    {
     "name": "stdout",
     "output_type": "stream",
     "text": [
      "False\n",
      "True\n",
      "True\n",
      "True\n",
      "False\n",
      "False\n"
     ]
    }
   ],
   "source": [
    "print(a == b)\n",
    "print(a != b)\n",
    "print(a < b)\n",
    "print(a <= b)\n",
    "print(a > b)\n",
    "print(a >= b)"
   ]
  },
  {
   "cell_type": "code",
   "execution_count": 3,
   "id": "84e94dbd",
   "metadata": {},
   "outputs": [
    {
     "name": "stdout",
     "output_type": "stream",
     "text": [
      "True\n"
     ]
    }
   ],
   "source": [
    "print(a in c)"
   ]
  },
  {
   "cell_type": "code",
   "execution_count": 4,
   "id": "2c7a0605",
   "metadata": {},
   "outputs": [
    {
     "name": "stdout",
     "output_type": "stream",
     "text": [
      "True\n"
     ]
    }
   ],
   "source": [
    "print(isinstance(a, int))"
   ]
  },
  {
   "cell_type": "code",
   "execution_count": 5,
   "id": "ab6cf83b",
   "metadata": {},
   "outputs": [
    {
     "name": "stdout",
     "output_type": "stream",
     "text": [
      "False\n"
     ]
    }
   ],
   "source": [
    "print(d is False)"
   ]
  },
  {
   "cell_type": "code",
   "execution_count": 6,
   "id": "a1fee966",
   "metadata": {},
   "outputs": [
    {
     "name": "stdout",
     "output_type": "stream",
     "text": [
      "True\n"
     ]
    }
   ],
   "source": [
    "print(len(d) == 0)"
   ]
  },
  {
   "cell_type": "markdown",
   "id": "630cfb95",
   "metadata": {},
   "source": [
    "***1.2. Multiple Kondisi***"
   ]
  },
  {
   "cell_type": "code",
   "execution_count": 7,
   "id": "84739eb7",
   "metadata": {},
   "outputs": [
    {
     "name": "stdout",
     "output_type": "stream",
     "text": [
      "False\n",
      "True\n"
     ]
    }
   ],
   "source": [
    "print(a == b and a in c)\n",
    "print(a == b or a in c)"
   ]
  },
  {
   "cell_type": "markdown",
   "id": "56f2f906",
   "metadata": {},
   "source": [
    "***1.3. Skema If, Elif, & Else***"
   ]
  },
  {
   "cell_type": "markdown",
   "id": "eaed0b8e",
   "metadata": {},
   "source": [
    "***1.3.1. Skema If, Elif, & Else***"
   ]
  },
  {
   "cell_type": "code",
   "execution_count": 8,
   "id": "dcf3f63c",
   "metadata": {},
   "outputs": [],
   "source": [
    "a = 1\n",
    "if a > 2:\n",
    "    print('a lebih besar dari 2')"
   ]
  },
  {
   "cell_type": "code",
   "execution_count": 9,
   "id": "3d321434",
   "metadata": {},
   "outputs": [
    {
     "name": "stdout",
     "output_type": "stream",
     "text": [
      "a lebih kecil dari b\n"
     ]
    }
   ],
   "source": [
    "a = 2\n",
    "b = 3\n",
    "if a > b:\n",
    "    print('a lebih besar dari b')\n",
    "else:\n",
    "    print('a lebih kecil dari b')"
   ]
  },
  {
   "cell_type": "code",
   "execution_count": 10,
   "id": "1b2aff67",
   "metadata": {},
   "outputs": [
    {
     "name": "stdout",
     "output_type": "stream",
     "text": [
      "a adalah angka negatif: nilai a adalah -2\n"
     ]
    }
   ],
   "source": [
    "a = -2\n",
    "if a > 0:\n",
    "    print(f'a adalah angka positif: nilai  a adalah {a}')\n",
    "elif a == 0:\n",
    "    print('a adalah 0')\n",
    "else:\n",
    "    print(f'a adalah angka negatif: nilai a adalah {a}')"
   ]
  },
  {
   "cell_type": "markdown",
   "id": "66aa8358-5720-4389-9148-a4a2cf5bb99e",
   "metadata": {},
   "source": [
    "***1.3.2 Skema If, Elif & Else dengan Operator Logika AND & OR***"
   ]
  },
  {
   "cell_type": "code",
   "execution_count": 11,
   "id": "cc427a62-7dd0-4464-a7d5-7ef482f316c2",
   "metadata": {},
   "outputs": [],
   "source": [
    "nama = 'Lukman'\n",
    "umur = 24"
   ]
  },
  {
   "cell_type": "code",
   "execution_count": 12,
   "id": "17b78136-8c39-4a78-b9ad-dde34037c515",
   "metadata": {},
   "outputs": [
    {
     "name": "stdout",
     "output_type": "stream",
     "text": [
      "nama dan umur cocok!\n"
     ]
    }
   ],
   "source": [
    "if nama == 'Lukman' and umur == 24:\n",
    "    print('nama dan umur cocok!')\n",
    "elif nama == 'Lukman' or umur == 26:\n",
    "    print('nama atau umur cocok')\n",
    "else:\n",
    "    print('nama & umur tidak cocok')"
   ]
  },
  {
   "cell_type": "code",
   "execution_count": 13,
   "id": "a8d68a8b-487c-48e9-98af-0ae499259dd3",
   "metadata": {},
   "outputs": [
    {
     "name": "stdout",
     "output_type": "stream",
     "text": [
      "nama cocok, tapi umur tidak cocok\n"
     ]
    }
   ],
   "source": [
    "if nama == 'Lukman' and umur == 26:\n",
    "    print('nama dan umur cocok!')\n",
    "elif nama == 'Lukman' and umur != 26:\n",
    "    print('nama cocok, tapi umur tidak cocok')\n",
    "elif nama != 'Lukman' and umur == 26:\n",
    "    print('nama tidak cocok, tapi umur cocok')\n",
    "else:\n",
    "    print('nama & umur tidak cocok')"
   ]
  },
  {
   "cell_type": "markdown",
   "id": "88911b99-95b0-4db6-9bb0-3ae4b5928cf6",
   "metadata": {},
   "source": [
    "***1.3.3 Nested If, Elif, & Else Statement***"
   ]
  },
  {
   "cell_type": "code",
   "execution_count": 14,
   "id": "ced2bcee-ff0b-45b6-954c-edae001c5b61",
   "metadata": {},
   "outputs": [
    {
     "name": "stdout",
     "output_type": "stream",
     "text": [
      "a adalah selain string dan int\n"
     ]
    }
   ],
   "source": [
    "a = 9.3\n",
    "if isinstance(a, int):\n",
    "    if a > 0:\n",
    "        if a >= 5:\n",
    "            print(f'a adalah angka positif lebih dari sama dengan 5, Nilai a adalah {a}')\n",
    "        else:\n",
    "            print(f'a adalah angka positif kurang dari 5, Nilai a adalah {a}')\n",
    "    elif a == 0:\n",
    "        print('a adlah 0')\n",
    "    else:\n",
    "        print(f'a adalah angka negatif, Nilai a adalah {a}')\n",
    "elif isinstance(a, str):\n",
    "    print('a adalah string')\n",
    "else:\n",
    "    print('a adalah selain string dan int')"
   ]
  },
  {
   "cell_type": "markdown",
   "id": "164bbdf4-e6e9-4d1c-b167-e8e0eadea6a4",
   "metadata": {},
   "source": [
    "***2. Looping***"
   ]
  },
  {
   "cell_type": "code",
   "execution_count": 15,
   "id": "cf60b3e4-93e1-4815-87ac-608932818785",
   "metadata": {},
   "outputs": [],
   "source": [
    "list_buah = ['apel', 'anggur', 'belimbing', 'ceri', 'duren']"
   ]
  },
  {
   "cell_type": "markdown",
   "id": "709e51ff-4e42-499c-b6eb-067491be463d",
   "metadata": {},
   "source": [
    "***2.1. For Loop***"
   ]
  },
  {
   "cell_type": "markdown",
   "id": "317c006a-b8fb-40d9-9408-cfa487b41292",
   "metadata": {},
   "source": [
    "***2.1.1. For Loop By Value***"
   ]
  },
  {
   "cell_type": "code",
   "execution_count": 16,
   "id": "feb6a81a-d9fc-4fcf-bc27-9ffba18ff3f2",
   "metadata": {},
   "outputs": [
    {
     "name": "stdout",
     "output_type": "stream",
     "text": [
      "apel\n",
      "anggur\n",
      "belimbing\n",
      "ceri\n",
      "duren\n"
     ]
    }
   ],
   "source": [
    "for value in list_buah:\n",
    "    print(value)"
   ]
  },
  {
   "cell_type": "markdown",
   "id": "5f8d7270",
   "metadata": {},
   "source": [
    "***2.1.2. For Loop by Index***"
   ]
  },
  {
   "cell_type": "markdown",
   "id": "c0e14cdc",
   "metadata": {},
   "source": [
    "range"
   ]
  },
  {
   "cell_type": "code",
   "execution_count": 17,
   "id": "4eefec7c",
   "metadata": {},
   "outputs": [
    {
     "name": "stdout",
     "output_type": "stream",
     "text": [
      "<class 'range'>\n",
      "range(0, 8)\n"
     ]
    }
   ],
   "source": [
    "var_range = range(8)\n",
    "\n",
    "print(type(var_range))\n",
    "print(var_range)"
   ]
  },
  {
   "cell_type": "code",
   "execution_count": 18,
   "id": "f4ac4818",
   "metadata": {},
   "outputs": [
    {
     "name": "stdout",
     "output_type": "stream",
     "text": [
      "[0, 1, 2, 3, 4, 5, 6, 7]\n"
     ]
    }
   ],
   "source": [
    "print(list(var_range))"
   ]
  },
  {
   "cell_type": "code",
   "execution_count": 19,
   "id": "227dc69a",
   "metadata": {},
   "outputs": [
    {
     "name": "stdout",
     "output_type": "stream",
     "text": [
      "0\n",
      "1\n",
      "2\n",
      "3\n",
      "4\n",
      "5\n",
      "6\n",
      "7\n"
     ]
    }
   ],
   "source": [
    "for idx in range(8):\n",
    "    print(idx)"
   ]
  },
  {
   "cell_type": "code",
   "execution_count": 20,
   "id": "64133b65",
   "metadata": {},
   "outputs": [
    {
     "name": "stdout",
     "output_type": "stream",
     "text": [
      "5\n"
     ]
    }
   ],
   "source": [
    "print(len(list_buah))"
   ]
  },
  {
   "cell_type": "code",
   "execution_count": 21,
   "id": "01919afb",
   "metadata": {},
   "outputs": [
    {
     "name": "stdout",
     "output_type": "stream",
     "text": [
      "0\n",
      "1\n",
      "2\n",
      "3\n",
      "4\n"
     ]
    }
   ],
   "source": [
    "for idx in range(len(list_buah)):\n",
    "    print(idx)"
   ]
  },
  {
   "cell_type": "code",
   "execution_count": 22,
   "id": "055cebb6",
   "metadata": {},
   "outputs": [
    {
     "name": "stdout",
     "output_type": "stream",
     "text": [
      "apel\n",
      "anggur\n",
      "belimbing\n",
      "ceri\n"
     ]
    }
   ],
   "source": [
    "print(list_buah[0])\n",
    "print(list_buah[1])\n",
    "print(list_buah[2])\n",
    "print(list_buah[3])"
   ]
  },
  {
   "cell_type": "code",
   "execution_count": 23,
   "id": "8789f4ee",
   "metadata": {},
   "outputs": [
    {
     "name": "stdout",
     "output_type": "stream",
     "text": [
      "0 apel\n",
      "1 anggur\n",
      "2 belimbing\n",
      "3 ceri\n",
      "4 duren\n"
     ]
    }
   ],
   "source": [
    "for idx in range(len(list_buah)):\n",
    "    print(idx, list_buah[idx])"
   ]
  },
  {
   "cell_type": "code",
   "execution_count": 24,
   "id": "2e07b850",
   "metadata": {},
   "outputs": [
    {
     "name": "stdout",
     "output_type": "stream",
     "text": [
      "0\n",
      "1\n",
      "2\n",
      "3\n",
      "index ke-3 BUKAN belimbing\n",
      "4\n"
     ]
    }
   ],
   "source": [
    "for idx in range(len(list_buah)):\n",
    "    print(idx)\n",
    "    if idx == 3:\n",
    "        if list_buah[3] == 'belimbing':\n",
    "            print('index ke-3 adalah belimbing')\n",
    "        else:\n",
    "            print('index ke-3 BUKAN belimbing')"
   ]
  },
  {
   "cell_type": "markdown",
   "id": "07e49031",
   "metadata": {},
   "source": [
    "***2.1.3. For Loop by Value & Index***"
   ]
  },
  {
   "cell_type": "code",
   "execution_count": 25,
   "id": "8eff07b1",
   "metadata": {},
   "outputs": [
    {
     "name": "stdout",
     "output_type": "stream",
     "text": [
      "0\n",
      "1\n",
      "2\n",
      "3\n",
      "index ke-3 BUKAN belimbing\n",
      "4\n"
     ]
    }
   ],
   "source": [
    "for idx, value in enumerate(list_buah):\n",
    "    print(idx)\n",
    "    if idx == 3:\n",
    "        if value == 'belimbing':\n",
    "            print('index ke-3 adalah belimbing')\n",
    "        else:\n",
    "            print('index ke-3 BUKAN belimbing')"
   ]
  },
  {
   "cell_type": "code",
   "execution_count": 26,
   "id": "2a180381",
   "metadata": {},
   "outputs": [
    {
     "name": "stdout",
     "output_type": "stream",
     "text": [
      "5 apel\n",
      "6 anggur\n",
      "7 belimbing\n",
      "8 ceri\n",
      "9 duren\n"
     ]
    }
   ],
   "source": [
    "for idx, value in enumerate(list_buah, start=5):\n",
    "    print(idx, value)"
   ]
  },
  {
   "cell_type": "markdown",
   "id": "79c1c8c3",
   "metadata": {},
   "source": [
    "***2.2. While Loop***"
   ]
  },
  {
   "cell_type": "markdown",
   "id": "a327fc48",
   "metadata": {},
   "source": [
    "***2.2.1. Simple While Loop***"
   ]
  },
  {
   "cell_type": "code",
   "execution_count": 27,
   "id": "6300016d",
   "metadata": {},
   "outputs": [
    {
     "name": "stdout",
     "output_type": "stream",
     "text": [
      "0\n",
      "1\n",
      "2\n",
      "3\n",
      "4\n",
      "5\n"
     ]
    }
   ],
   "source": [
    "a = 0\n",
    "b = 5\n",
    "\n",
    "while a <= b:\n",
    "    print(a)\n",
    "    a = a + 1"
   ]
  },
  {
   "cell_type": "markdown",
   "id": "68639f48",
   "metadata": {},
   "source": [
    "***2.2.2. While Loop With Else***"
   ]
  },
  {
   "cell_type": "code",
   "execution_count": 28,
   "id": "7f555682",
   "metadata": {},
   "outputs": [
    {
     "name": "stdout",
     "output_type": "stream",
     "text": [
      "0\n",
      "1\n",
      "2\n",
      "3\n",
      "4\n",
      "5\n",
      "a sekarang sudah lebih dari b\n"
     ]
    }
   ],
   "source": [
    "a = 0\n",
    "b = 5\n",
    "\n",
    "while a <= b:\n",
    "    print(a)\n",
    "    a = a + 1\n",
    "else:\n",
    "    print('a sekarang sudah lebih dari b')"
   ]
  },
  {
   "cell_type": "code",
   "execution_count": 29,
   "id": "d2c1e348",
   "metadata": {},
   "outputs": [
    {
     "name": "stdout",
     "output_type": "stream",
     "text": [
      "True\n",
      "True\n",
      "True\n"
     ]
    }
   ],
   "source": [
    "is_found = True\n",
    "idx = 0\n",
    "\n",
    "while is_found is True:\n",
    "    print(is_found)\n",
    "    idx += 1\n",
    "    \n",
    "    if idx == 3:\n",
    "        is_found = False"
   ]
  },
  {
   "cell_type": "markdown",
   "id": "2539ce4c",
   "metadata": {},
   "source": [
    "***2.3. Pass, Break, 7 Continue Statements***"
   ]
  },
  {
   "cell_type": "markdown",
   "id": "7c9b0d6c",
   "metadata": {},
   "source": [
    "***2.3.1. Pass Statements***"
   ]
  },
  {
   "cell_type": "code",
   "execution_count": 30,
   "id": "a63c15a4",
   "metadata": {},
   "outputs": [
    {
     "name": "stdout",
     "output_type": "stream",
     "text": [
      "index = 0\n",
      "index = 1\n",
      "index = 2\n",
      "index = 3\n",
      "index = 4\n"
     ]
    }
   ],
   "source": [
    "for idx in range(5):\n",
    "    if idx == 3:\n",
    "        pass\n",
    "    print(f'index = {idx}')"
   ]
  },
  {
   "cell_type": "code",
   "execution_count": 31,
   "id": "a1f7c36a",
   "metadata": {},
   "outputs": [
    {
     "name": "stdout",
     "output_type": "stream",
     "text": [
      "index = 0\n",
      "index = 1\n",
      "index = 2\n",
      "index = 3\n",
      "index = 4\n"
     ]
    }
   ],
   "source": [
    "for idx in range(len(list_buah)):\n",
    "    if idx == 3:\n",
    "        pass\n",
    "    print(f'index = {idx}')"
   ]
  },
  {
   "cell_type": "code",
   "execution_count": 32,
   "id": "eb1c350c",
   "metadata": {},
   "outputs": [
    {
     "name": "stdout",
     "output_type": "stream",
     "text": [
      "a: 0\n",
      "a: 1\n",
      "a: 2\n"
     ]
    }
   ],
   "source": [
    "a = 0\n",
    "b = 5\n",
    "\n",
    "while a <= b:\n",
    "    print(f'a: {a}')\n",
    "    a = a + 1\n",
    "    \n",
    "    if a == 3:\n",
    "        break"
   ]
  },
  {
   "cell_type": "code",
   "execution_count": 33,
   "id": "0617a8fb",
   "metadata": {},
   "outputs": [
    {
     "name": "stdout",
     "output_type": "stream",
     "text": [
      "True\n",
      "True\n",
      "True\n"
     ]
    }
   ],
   "source": [
    "idx = 0\n",
    "\n",
    "while True:\n",
    "    print(True)\n",
    "    idx += 1\n",
    "    \n",
    "    if idx == 3:\n",
    "        break"
   ]
  },
  {
   "cell_type": "markdown",
   "id": "b4fcd643",
   "metadata": {},
   "source": [
    "***2.3.3. Continue Statement***"
   ]
  },
  {
   "cell_type": "code",
   "execution_count": 34,
   "id": "8606f777",
   "metadata": {},
   "outputs": [
    {
     "name": "stdout",
     "output_type": "stream",
     "text": [
      "index = 0\n",
      "index = 1\n",
      "index = 2\n",
      "index = 4\n"
     ]
    }
   ],
   "source": [
    "for idx in range(5):\n",
    "    if idx == 3:\n",
    "        continue\n",
    "    print(f'index = {idx}')"
   ]
  },
  {
   "cell_type": "code",
   "execution_count": 35,
   "id": "e3d511c5",
   "metadata": {},
   "outputs": [],
   "source": [
    "list_of_dicts = [\n",
    "    {'nama': 'agi', 'umur': 20},\n",
    "    {'nama': 'budi', 'umur': 30},\n",
    "    {'nama': 'anton', 'umur': 40},\n",
    "]"
   ]
  },
  {
   "cell_type": "code",
   "execution_count": 36,
   "id": "cf846ff8",
   "metadata": {},
   "outputs": [
    {
     "name": "stdout",
     "output_type": "stream",
     "text": [
      "{'nama': 'agi', 'umur': 20}\n",
      "{'nama': 'budi', 'umur': 30}\n",
      "{'nama': 'anton', 'umur': 40}\n"
     ]
    }
   ],
   "source": [
    "for list_of_dict in list_of_dicts:\n",
    "    print(list_of_dict)"
   ]
  },
  {
   "cell_type": "code",
   "execution_count": 37,
   "id": "3f26e9a7",
   "metadata": {},
   "outputs": [
    {
     "name": "stdout",
     "output_type": "stream",
     "text": [
      "0 20\n",
      "1 30\n",
      "2 40\n"
     ]
    }
   ],
   "source": [
    "for idx, val in enumerate(list_of_dicts):\n",
    "    print(idx, val['umur'])"
   ]
  },
  {
   "cell_type": "code",
   "execution_count": 38,
   "id": "827aaf90",
   "metadata": {},
   "outputs": [
    {
     "name": "stdout",
     "output_type": "stream",
     "text": [
      "('nama', 'agi')\n",
      "('umur', 20)\n",
      "('nama', 'budi')\n",
      "('umur', 30)\n",
      "('nama', 'anton')\n",
      "('umur', 40)\n"
     ]
    }
   ],
   "source": [
    "for list_of_dict in list_of_dicts:\n",
    "    for value in list_of_dict.items():\n",
    "        print(value)"
   ]
  },
  {
   "cell_type": "code",
   "execution_count": 39,
   "id": "5baccb16",
   "metadata": {},
   "outputs": [],
   "source": [
    "dict_user = {\n",
    "    'nama': 'agi',\n",
    "    'umur': 20,\n",
    "    'sudah_menikah': False,\n",
    "    'alamat': 'jl. selatan no 99'\n",
    "}"
   ]
  },
  {
   "cell_type": "code",
   "execution_count": 40,
   "id": "58c0bc18",
   "metadata": {},
   "outputs": [
    {
     "name": "stdout",
     "output_type": "stream",
     "text": [
      "('nama', 'agi')\n",
      "('umur', 20)\n",
      "('sudah_menikah', False)\n",
      "('alamat', 'jl. selatan no 99')\n"
     ]
    }
   ],
   "source": [
    "for value in dict_user.items():\n",
    "    print(value)"
   ]
  },
  {
   "cell_type": "markdown",
   "id": "cbb3c31d",
   "metadata": {},
   "source": [
    "**3. Latihan 1**"
   ]
  },
  {
   "cell_type": "code",
   "execution_count": 41,
   "id": "f63c6d77",
   "metadata": {},
   "outputs": [
    {
     "name": "stdout",
     "output_type": "stream",
     "text": [
      "[('agus', 83), ('sari', 85), ('putri', 68), ('bambang', 65)]\n"
     ]
    }
   ],
   "source": [
    "list_nama = ['agus', 'sari', 'putri', 'bambang']\n",
    "list_nilai = [83, 85, 68, 65]\n",
    "\n",
    "zipped = zip(list_nama, list_nilai)\n",
    "\n",
    "print(list(zipped))"
   ]
  },
  {
   "cell_type": "code",
   "execution_count": 42,
   "id": "e8266f65",
   "metadata": {},
   "outputs": [
    {
     "name": "stdout",
     "output_type": "stream",
     "text": [
      "[{'nama': 'agus', 'nilai': 83}, {'nama': 'sari', 'nilai': 85}, {'nama': 'putri', 'nilai': 68}, {'nama': 'bambang', 'nilai': 65}]\n"
     ]
    }
   ],
   "source": [
    "zipped = zip(list_nama, list_nilai)\n",
    "\n",
    "list_of_dict = []\n",
    "\n",
    "for data in list(zipped):\n",
    "    list_of_dict.append({\n",
    "        'nama': data[0],\n",
    "        'nilai': data[1],\n",
    "    })\n",
    "\n",
    "print(list_of_dict)"
   ]
  },
  {
   "cell_type": "code",
   "execution_count": 48,
   "id": "2d4a99f4-8109-4853-a547-efc597347cff",
   "metadata": {},
   "outputs": [
    {
     "name": "stdout",
     "output_type": "stream",
     "text": [
      "siswa bernama agus dengan nilai mtk: 83, dinyatakan LULUS!\n",
      "siswa bernama sari dengan nilai mtk: 85, dinyatakan LULUS!\n",
      "siswa bernama putri dengan nilai mtk: 68, dinyatakan TIDAK lulus!\n",
      "siswa bernama bambang dengan nilai mtk: 65, dinyatakan TIDAK lulus!\n"
     ]
    }
   ],
   "source": [
    "list_lulus = []\n",
    "list_remedial = []\n",
    "\n",
    "for j in range(len(list_of_dict)):\n",
    "    if(list_of_dict[j]['nilai'] >= 75):\n",
    "        list_lulus.append(list_of_dict[j]['nama'])\n",
    "        print(f'siswa bernama {list_of_dict[j][\"nama\"]} dengan nilai mtk: {list_of_dict[j][\"nilai\"]}, dinyatakan LULUS!')\n",
    "    else:\n",
    "        list_remedial.append(list_of_dict[j]['nama'])\n",
    "        print(f'siswa bernama {list_of_dict[j][\"nama\"]} dengan nilai mtk: {list_of_dict[j][\"nilai\"]}, dinyatakan TIDAK lulus!')"
   ]
  },
  {
   "cell_type": "code",
   "execution_count": 51,
   "id": "3297aa10-5431-4293-8efd-42871007bb17",
   "metadata": {},
   "outputs": [
    {
     "name": "stdout",
     "output_type": "stream",
     "text": [
      "['agus', 'sari']\n",
      "['putri', 'bambang']\n"
     ]
    }
   ],
   "source": [
    "print(list_lulus)\n",
    "print(list_remedial)"
   ]
  }
 ],
 "metadata": {
  "kernelspec": {
   "display_name": "Python 3 (ipykernel)",
   "language": "python",
   "name": "python3"
  },
  "language_info": {
   "codemirror_mode": {
    "name": "ipython",
    "version": 3
   },
   "file_extension": ".py",
   "mimetype": "text/x-python",
   "name": "python",
   "nbconvert_exporter": "python",
   "pygments_lexer": "ipython3",
   "version": "3.9.7"
  }
 },
 "nbformat": 4,
 "nbformat_minor": 5
}
