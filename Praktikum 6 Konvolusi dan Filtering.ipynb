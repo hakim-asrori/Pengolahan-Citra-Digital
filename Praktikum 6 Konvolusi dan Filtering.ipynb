{
 "cells": [
  {
   "cell_type": "markdown",
   "id": "a3bf2090",
   "metadata": {},
   "source": [
    "1 Filter Citra Digital"
   ]
  },
  {
   "cell_type": "markdown",
   "id": "2404c939",
   "metadata": {},
   "source": [
    "1.1 Low pass filter (lolos bawah)"
   ]
  },
  {
   "cell_type": "code",
   "execution_count": 1,
   "id": "e971d106-986b-4a49-9fc0-7c516a959e08",
   "metadata": {},
   "outputs": [],
   "source": [
    "import cv2\n",
    "import matplotlib.pyplot as plt\n",
    "import numpy as np"
   ]
  },
  {
   "cell_type": "code",
   "execution_count": 33,
   "id": "b51cda2a",
   "metadata": {},
   "outputs": [],
   "source": [
    "citra = cv2.imread('data/zero.png', 0)\n",
    "kernel = np.float32([[1,1,1],[1,1,1],[1,1,1]]) / 9\n",
    "terfilter = cv2.filter2D(citra, -1, kernel)\n",
    "combine = np.hstack((citra, terfilter))\n",
    "cv2.imshow('Hasil', terfilter)\n",
    "cv2.imshow('ori', citra)\n",
    "cv2.imshow('Gabungan', combine)\n",
    "cv2.waitKey(0)\n",
    "cv2.destroyAllWindows()"
   ]
  },
  {
   "cell_type": "markdown",
   "id": "e6cb10e0",
   "metadata": {},
   "source": [
    "1.2 High Pass Filter (lolos atas)"
   ]
  },
  {
   "cell_type": "code",
   "execution_count": 11,
   "id": "a6aef141",
   "metadata": {},
   "outputs": [],
   "source": [
    "citra = cv2.imread('data/zero.png')\n",
    "jumBaris, jumKolom = citra.shape[:2]\n",
    "citra = cv2.resize(citra, (int(0.5 * jumBaris), int(0.5 * jumKolom)))\n",
    "\n",
    "kernelA = np.float32([[0,-1,0],[-1,4,-1],[0,-1,0]])\n",
    "kernelB = np.float32([[-1,-1,-1],[-1,8,-1],[-1,-1,-1]])\n",
    "kernelC = np.float32([[1,-2,1],[-2,4,-2],[1,-2,1]])\n",
    "\n",
    "filterA = cv2.filter2D(citra, -1, kernelA)\n",
    "filterB = cv2.filter2D(citra, -1, kernelB)\n",
    "filterC = cv2.filter2D(citra, -1, kernelC)\n",
    "\n",
    "baris1 = np.hstack((citra, filterA))\n",
    "baris2 = np.hstack((citra, filterC))\n",
    "\n",
    "hasil = np.vstack((baris1, baris2))\n",
    "\n",
    "cv2.imshow('Hasil', hasil)\n",
    "cv2.waitKey(0)\n",
    "cv2.destroyAllWindows()"
   ]
  },
  {
   "cell_type": "markdown",
   "id": "f76cbc1c",
   "metadata": {},
   "source": [
    "1.3 High Boots"
   ]
  },
  {
   "cell_type": "code",
   "execution_count": 12,
   "id": "23fc0acb",
   "metadata": {},
   "outputs": [],
   "source": [
    "citra = cv2.imread('data/zero.png')\n",
    "jumBaris, jumKolom = citra.shape[:2]\n",
    "citra = cv2.resize(citra, (int(0.5 * jumBaris), int(0.5 * jumKolom)))\n",
    "\n",
    "kernelA = np.float32([[-1,-1,-1],[-1,9,-1],[-1,-1,-1]])\n",
    "kernelB = np.float32([[-1,-1,-1],[-1,10,-1],[-1,-1,-1]])\n",
    "kernelC = np.float32([[-1,-1,-1],[-1,13,-1],[1,-1,1]])\n",
    "\n",
    "filterA = cv2.filter2D(citra, -1, kernelA)\n",
    "filterB = cv2.filter2D(citra, -1, kernelB)\n",
    "filterC = cv2.filter2D(citra, -1, kernelC)\n",
    "\n",
    "baris1 = np.hstack((citra, filterA))\n",
    "baris2 = np.hstack((citra, filterC))\n",
    "\n",
    "hasil = np.vstack((baris1, baris2))\n",
    "\n",
    "cv2.imshow('Hasil', hasil)\n",
    "cv2.waitKey(0)\n",
    "cv2.destroyAllWindows()"
   ]
  },
  {
   "cell_type": "markdown",
   "id": "6873d300",
   "metadata": {},
   "source": [
    "1.4 Filter Penebalan garis"
   ]
  },
  {
   "cell_type": "code",
   "execution_count": 13,
   "id": "3dd6a515",
   "metadata": {},
   "outputs": [],
   "source": [
    "citra = cv2.imread('data/zero.png', 0)\n",
    "\n",
    "kernel = np.float32([[0,0,0],[4,0,-4],[0,0,0]])\n",
    "\n",
    "terfilter = cv2.filter2D(citra, -1, kernel)\n",
    "hasil = np.hstack((citra, terfilter))\n",
    "\n",
    "cv2.imshow('Hasil', hasil)\n",
    "cv2.waitKey(0)\n",
    "cv2.destroyAllWindows()"
   ]
  },
  {
   "cell_type": "markdown",
   "id": "efa50f9d",
   "metadata": {},
   "source": [
    "2 Pengaburan"
   ]
  },
  {
   "cell_type": "markdown",
   "id": "1f40354b",
   "metadata": {},
   "source": [
    "2.1 Media"
   ]
  },
  {
   "cell_type": "code",
   "execution_count": 14,
   "id": "2cd089ed",
   "metadata": {},
   "outputs": [],
   "source": [
    "citra = cv2.imread('data/zero.png')\n",
    "\n",
    "blur1 = cv2.medianBlur(citra, 5)\n",
    "blur2 = cv2.medianBlur(citra, 45)\n",
    "\n",
    "hasil = np.hstack((citra, blur1, blur2))\n",
    "\n",
    "cv2.imshow('Hasil', hasil)\n",
    "cv2.waitKey(0)\n",
    "cv2.destroyAllWindows()"
   ]
  },
  {
   "cell_type": "markdown",
   "id": "fcd4a4d9",
   "metadata": {},
   "source": [
    "2.2 Blur"
   ]
  },
  {
   "cell_type": "code",
   "execution_count": 15,
   "id": "596c7ee1",
   "metadata": {},
   "outputs": [],
   "source": [
    "citra = cv2.imread('data/zero.png')\n",
    "\n",
    "blur1 = cv2.blur(citra, (5, 5))\n",
    "blur2 = cv2.blur(citra, (13, 13))\n",
    "\n",
    "hasil = np.hstack((citra, blur1, blur2))\n",
    "\n",
    "cv2.imshow('Hasil', hasil)\n",
    "cv2.waitKey(0)\n",
    "cv2.destroyAllWindows()"
   ]
  },
  {
   "cell_type": "markdown",
   "id": "cf8b79b7",
   "metadata": {},
   "source": [
    "2.3 Gaussian"
   ]
  },
  {
   "cell_type": "code",
   "execution_count": 17,
   "id": "26a6d855",
   "metadata": {},
   "outputs": [],
   "source": [
    "citra = cv2.imread('data/zero.png')\n",
    "\n",
    "blur1 = cv2.GaussianBlur(citra, (5, 5), 0)\n",
    "blur2 = cv2.GaussianBlur(citra, (45, 45), 0)\n",
    "\n",
    "hasil = np.hstack((citra, blur1, blur2))\n",
    "\n",
    "cv2.imshow('Hasil', hasil)\n",
    "cv2.waitKey(0)\n",
    "cv2.destroyAllWindows()"
   ]
  },
  {
   "cell_type": "markdown",
   "id": "e4e117f5",
   "metadata": {},
   "source": [
    "2.4 Bilateral"
   ]
  },
  {
   "cell_type": "code",
   "execution_count": 18,
   "id": "dd561295",
   "metadata": {},
   "outputs": [],
   "source": [
    "citra = cv2.imread('data/zero.png')\n",
    "\n",
    "blur1 = cv2.bilateralFilter(citra, 10, 75, 75)\n",
    "blur2 = cv2.bilateralFilter(citra, 10, 150, 150)\n",
    "\n",
    "hasil = np.hstack((citra, blur1, blur2))\n",
    "\n",
    "cv2.imshow('Hasil', hasil)\n",
    "cv2.waitKey(0)\n",
    "cv2.destroyAllWindows()"
   ]
  },
  {
   "cell_type": "markdown",
   "id": "975d6671",
   "metadata": {},
   "source": [
    "3 Noise Filter"
   ]
  },
  {
   "cell_type": "markdown",
   "id": "866bfac4",
   "metadata": {},
   "source": [
    "3.1 Menambahkan Noise"
   ]
  },
  {
   "cell_type": "code",
   "execution_count": 19,
   "id": "bfa604ff",
   "metadata": {},
   "outputs": [
    {
     "data": {
      "text/plain": [
       "True"
      ]
     },
     "execution_count": 19,
     "metadata": {},
     "output_type": "execute_result"
    }
   ],
   "source": [
    "import random\n",
    "\n",
    "citra = cv2.imread('data/zero.png', 0)\n",
    "\n",
    "hasil = citra.copy()\n",
    "jumBaris, jumKolom = hasil.shape[:2]\n",
    "prob = 0.1\n",
    "\n",
    "for baris in range(jumBaris):\n",
    "    for kolom in range(jumKolom):\n",
    "        nilaiAcak = random.random()\n",
    "        if nilaiAcak < prob / 2:\n",
    "            hasil[baris, kolom] = 0\n",
    "        elif nilaiAcak > prob / 2 and nilaiAcak <= prob:\n",
    "            hasil[baris, kolom] = 255\n",
    "\n",
    "cv2.imshow('Original', citra)\n",
    "cv2.imshow('Hasil rotasi', hasil)\n",
    "cv2.waitKey(0)\n",
    "cv2.destroyAllWindows()\n",
    "cv2.imwrite('data/zerogdm.png', hasil)"
   ]
  },
  {
   "cell_type": "markdown",
   "id": "4091a88f",
   "metadata": {},
   "source": [
    "3.2 menggunakan filter median"
   ]
  },
  {
   "cell_type": "code",
   "execution_count": 25,
   "id": "c97f95fa",
   "metadata": {},
   "outputs": [],
   "source": [
    "citra = cv2.imread('data/zerogdm.png', 0)\n",
    "\n",
    "if citra is None:\n",
    "    print('Berkas citra tidak dapat dibaca')\n",
    "else:\n",
    "    terfilter = cv2.medianBlur(citra, 5)\n",
    "    hasil = np.hstack((citra, terfilter))\n",
    "\n",
    "cv2.imshow('Hasil', hasil)\n",
    "cv2.waitKey(0)\n",
    "cv2.destroyAllWindows()"
   ]
  },
  {
   "cell_type": "markdown",
   "id": "e94fafd3",
   "metadata": {},
   "source": [
    "3.3 fastNlMeansDenoising"
   ]
  },
  {
   "cell_type": "code",
   "execution_count": 26,
   "id": "c4ea53f8",
   "metadata": {},
   "outputs": [],
   "source": [
    "citra = cv2.imread('data/zerogdm.png', 0)\n",
    "\n",
    "if citra is None:\n",
    "    print('Berkas citra tidak dapat dibaca')\n",
    "else:\n",
    "    terfilter = cv2.fastNlMeansDenoising(citra, None, 30)\n",
    "    hasil = np.hstack((citra, terfilter))\n",
    "\n",
    "cv2.imshow('Hasil', hasil)\n",
    "cv2.waitKey(0)\n",
    "cv2.destroyAllWindows()"
   ]
  },
  {
   "cell_type": "markdown",
   "id": "d0baf781",
   "metadata": {},
   "source": [
    "3.4 fastNlMeansDenoisingColored"
   ]
  },
  {
   "cell_type": "code",
   "execution_count": 30,
   "id": "d4fc1ad5",
   "metadata": {},
   "outputs": [],
   "source": [
    "citra = cv2.imread('data/zerogdm.png')\n",
    "\n",
    "if citra is None:\n",
    "    print('Berkas citra tidak dapat dibaca')\n",
    "else:\n",
    "    terfilter = cv2.fastNlMeansDenoisingColored(citra, None, 30, 30)\n",
    "    hasil = np.hstack((citra, terfilter))\n",
    "\n",
    "cv2.imshow('Hasil', hasil)\n",
    "cv2.waitKey(0)\n",
    "cv2.destroyAllWindows()"
   ]
  }
 ],
 "metadata": {
  "kernelspec": {
   "display_name": "Python 3 (ipykernel)",
   "language": "python",
   "name": "python3"
  },
  "language_info": {
   "codemirror_mode": {
    "name": "ipython",
    "version": 3
   },
   "file_extension": ".py",
   "mimetype": "text/x-python",
   "name": "python",
   "nbconvert_exporter": "python",
   "pygments_lexer": "ipython3",
   "version": "3.9.7"
  }
 },
 "nbformat": 4,
 "nbformat_minor": 5
}
